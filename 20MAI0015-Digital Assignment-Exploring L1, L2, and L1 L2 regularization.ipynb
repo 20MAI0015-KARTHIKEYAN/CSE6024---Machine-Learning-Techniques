{
  "nbformat": 4,
  "nbformat_minor": 0,
  "metadata": {
    "colab": {
      "name": "MLT L1 and L2.ipynb",
      "provenance": [],
      "collapsed_sections": []
    },
    "kernelspec": {
      "name": "python3",
      "display_name": "Python 3"
    },
    "language_info": {
      "name": "python"
    }
  },
  "cells": [
    {
      "cell_type": "code",
      "metadata": {
        "id": "_i08Qw1HLoWl"
      },
      "source": [
        "#importing the required libraries\n",
        "import keras\n",
        "from keras.models import Sequential\n",
        "from keras.layers import Conv2D\n",
        "from keras.layers import Dropout\n",
        "from keras.layers import MaxPooling2D\n",
        "from keras.layers import Dense\n",
        "from keras.layers import Flatten\n",
        "from keras.callbacks import EarlyStopping\n",
        "from sklearn.preprocessing import StandardScaler\n",
        "#the focussed Library\n",
        "from keras.regularizers import l1,l2,l1_l2"
      ],
      "execution_count": 25,
      "outputs": []
    },
    {
      "cell_type": "code",
      "metadata": {
        "id": "MZQop4nULq76"
      },
      "source": [
        "#Boston_Housing dataset for saving time in training\n",
        "from keras.datasets import boston_housing\n",
        "(x_train, y_train), (x_test, y_test) = boston_housing.load_data()"
      ],
      "execution_count": 26,
      "outputs": []
    },
    {
      "cell_type": "code",
      "metadata": {
        "colab": {
          "base_uri": "https://localhost:8080/"
        },
        "id": "ZDUTrklfMF9T",
        "outputId": "bc09930b-e5b5-4225-e7cc-5e893d98d4af"
      },
      "source": [
        "#initializing Handler for the StandardScaler function\n",
        "h_one=StandardScaler()\n",
        "h_one.fit(x_train)"
      ],
      "execution_count": 27,
      "outputs": [
        {
          "output_type": "execute_result",
          "data": {
            "text/plain": [
              "StandardScaler(copy=True, with_mean=True, with_std=True)"
            ]
          },
          "metadata": {
            "tags": []
          },
          "execution_count": 27
        }
      ]
    },
    {
      "cell_type": "code",
      "metadata": {
        "colab": {
          "base_uri": "https://localhost:8080/"
        },
        "id": "5veN2ElzMdAD",
        "outputId": "f526744a-5a82-4d81-d764-90dbf388d15d"
      },
      "source": [
        "#Dinmensions of the train\n",
        "x_train.shape"
      ],
      "execution_count": 28,
      "outputs": [
        {
          "output_type": "execute_result",
          "data": {
            "text/plain": [
              "(404, 13)"
            ]
          },
          "metadata": {
            "tags": []
          },
          "execution_count": 28
        }
      ]
    },
    {
      "cell_type": "code",
      "metadata": {
        "colab": {
          "base_uri": "https://localhost:8080/"
        },
        "id": "ndPlHpwHMgV8",
        "outputId": "074e5bea-0bf2-4409-94bf-01024c2bae88"
      },
      "source": [
        "#Dinmensions of the test\n",
        "x_test.shape"
      ],
      "execution_count": 29,
      "outputs": [
        {
          "output_type": "execute_result",
          "data": {
            "text/plain": [
              "(102, 13)"
            ]
          },
          "metadata": {
            "tags": []
          },
          "execution_count": 29
        }
      ]
    },
    {
      "cell_type": "code",
      "metadata": {
        "id": "gCvB4xiSNjwA"
      },
      "source": [
        "#model transformation by standard scalar\n",
        "x_test=h_one.transform(x_test)\n",
        "x_train=h_one.transform(x_train)"
      ],
      "execution_count": 30,
      "outputs": []
    },
    {
      "cell_type": "code",
      "metadata": {
        "id": "zYZZOGAvMidi"
      },
      "source": [
        "#creating model using l1 Regularization\n",
        "model_l1_r=Sequential()\n",
        "model_l1_r.add(Dense(units=128,activation=\"relu\",kernel_regularizer=keras.regularizers.l1(l1=0.01),input_shape=(13,)))\n",
        "model_l1_r.add(Dropout(0.1))\n",
        "model_l1_r.add(Dense(units=64,activation=\"relu\"))\n",
        "model_l1_r.add(Dropout(0.1))\n",
        "model_l1_r.add(Dense(units=16,activation=\"relu\"))\n",
        "model_l1_r.add(Dense(units=1))"
      ],
      "execution_count": 31,
      "outputs": []
    },
    {
      "cell_type": "code",
      "metadata": {
        "id": "HdvGzafAOVVw"
      },
      "source": [
        "#creating model using l2 Regularization\n",
        "model_l2_r=Sequential()\n",
        "model_l2_r.add(Dense(units=128,activation=\"relu\",kernel_regularizer=keras.regularizers.l2(l2=0.01),input_shape=(13,)))\n",
        "model_l2_r.add(Dropout(0.1))\n",
        "model_l2_r.add(Dense(units=64,activation=\"relu\"))\n",
        "model_l2_r.add(Dropout(0.1))\n",
        "model_l2_r.add(Dense(units=16,activation=\"relu\"))\n",
        "model_l2_r.add(Dense(units=1))"
      ],
      "execution_count": 32,
      "outputs": []
    },
    {
      "cell_type": "code",
      "metadata": {
        "id": "Pi5mkh3qOVJL"
      },
      "source": [
        "#creating model using l1 and l2 Regularization\n",
        "model_l12_r=Sequential()\n",
        "model_l12_r.add(Dense(units=128,activation=\"relu\",kernel_regularizer=keras.regularizers.l1_l2(l1=0.01, l2=0.01),input_shape=(13,)))\n",
        "model_l12_r.add(Dropout(0.1))\n",
        "model_l12_r.add(Dense(units=64,activation=\"relu\"))\n",
        "model_l12_r.add(Dropout(0.1))\n",
        "model_l12_r.add(Dense(units=16,activation=\"relu\"))\n",
        "model_l12_r.add(Dense(units=1))"
      ],
      "execution_count": 33,
      "outputs": []
    },
    {
      "cell_type": "code",
      "metadata": {
        "colab": {
          "base_uri": "https://localhost:8080/"
        },
        "id": "OJ9P7Oh6Mn26",
        "outputId": "0bd16b56-abef-4477-f944-f4c16010cac9"
      },
      "source": [
        "#L1 model summary\n",
        "model_l1_r.summary()"
      ],
      "execution_count": 34,
      "outputs": [
        {
          "output_type": "stream",
          "text": [
            "Model: \"sequential_2\"\n",
            "_________________________________________________________________\n",
            "Layer (type)                 Output Shape              Param #   \n",
            "=================================================================\n",
            "dense_8 (Dense)              (None, 128)               1792      \n",
            "_________________________________________________________________\n",
            "dropout_4 (Dropout)          (None, 128)               0         \n",
            "_________________________________________________________________\n",
            "dense_9 (Dense)              (None, 64)                8256      \n",
            "_________________________________________________________________\n",
            "dropout_5 (Dropout)          (None, 64)                0         \n",
            "_________________________________________________________________\n",
            "dense_10 (Dense)             (None, 16)                1040      \n",
            "_________________________________________________________________\n",
            "dense_11 (Dense)             (None, 1)                 17        \n",
            "=================================================================\n",
            "Total params: 11,105\n",
            "Trainable params: 11,105\n",
            "Non-trainable params: 0\n",
            "_________________________________________________________________\n"
          ],
          "name": "stdout"
        }
      ]
    },
    {
      "cell_type": "code",
      "metadata": {
        "colab": {
          "base_uri": "https://localhost:8080/"
        },
        "id": "SGvxjsB9O5kr",
        "outputId": "f820d49f-8be9-4d46-c016-d92d3de87604"
      },
      "source": [
        "#L2 model summary\n",
        "model_l2_r.summary()"
      ],
      "execution_count": 38,
      "outputs": [
        {
          "output_type": "stream",
          "text": [
            "Model: \"sequential_3\"\n",
            "_________________________________________________________________\n",
            "Layer (type)                 Output Shape              Param #   \n",
            "=================================================================\n",
            "dense_12 (Dense)             (None, 128)               1792      \n",
            "_________________________________________________________________\n",
            "dropout_6 (Dropout)          (None, 128)               0         \n",
            "_________________________________________________________________\n",
            "dense_13 (Dense)             (None, 64)                8256      \n",
            "_________________________________________________________________\n",
            "dropout_7 (Dropout)          (None, 64)                0         \n",
            "_________________________________________________________________\n",
            "dense_14 (Dense)             (None, 16)                1040      \n",
            "_________________________________________________________________\n",
            "dense_15 (Dense)             (None, 1)                 17        \n",
            "=================================================================\n",
            "Total params: 11,105\n",
            "Trainable params: 11,105\n",
            "Non-trainable params: 0\n",
            "_________________________________________________________________\n"
          ],
          "name": "stdout"
        }
      ]
    },
    {
      "cell_type": "code",
      "metadata": {
        "colab": {
          "base_uri": "https://localhost:8080/"
        },
        "id": "znQvVQh8O5cc",
        "outputId": "b78e94a9-19b9-4554-cc23-6d0673293347"
      },
      "source": [
        "#L1 L2 model summary\n",
        "model_l12_r.summary()"
      ],
      "execution_count": 39,
      "outputs": [
        {
          "output_type": "stream",
          "text": [
            "Model: \"sequential_4\"\n",
            "_________________________________________________________________\n",
            "Layer (type)                 Output Shape              Param #   \n",
            "=================================================================\n",
            "dense_16 (Dense)             (None, 128)               1792      \n",
            "_________________________________________________________________\n",
            "dropout_8 (Dropout)          (None, 128)               0         \n",
            "_________________________________________________________________\n",
            "dense_17 (Dense)             (None, 64)                8256      \n",
            "_________________________________________________________________\n",
            "dropout_9 (Dropout)          (None, 64)                0         \n",
            "_________________________________________________________________\n",
            "dense_18 (Dense)             (None, 16)                1040      \n",
            "_________________________________________________________________\n",
            "dense_19 (Dense)             (None, 1)                 17        \n",
            "=================================================================\n",
            "Total params: 11,105\n",
            "Trainable params: 11,105\n",
            "Non-trainable params: 0\n",
            "_________________________________________________________________\n"
          ],
          "name": "stdout"
        }
      ]
    },
    {
      "cell_type": "code",
      "metadata": {
        "id": "tWqF0-IoMqpL"
      },
      "source": [
        "#Compiling all the models\n",
        "model_l1_r.compile(loss=\"mse\",optimizer=\"adam\",metrics=['mse'])\n",
        "model_l2_r.compile(loss=\"mse\",optimizer=\"adam\",metrics=['mse'])\n",
        "model_l12_r.compile(loss=\"mse\",optimizer=\"adam\",metrics=['mse'])"
      ],
      "execution_count": 40,
      "outputs": []
    },
    {
      "cell_type": "code",
      "metadata": {
        "colab": {
          "base_uri": "https://localhost:8080/"
        },
        "id": "i87mNfXBMtkk",
        "outputId": "c4a9387b-d2c6-4e61-baf2-1913c4680de0"
      },
      "source": [
        "#Training L1\n",
        "Mod_l1=model_l1_r.fit(x_train,y_train,batch_size=1,callbacks=[EarlyStopping(patience=3)],epochs=100,validation_split=0.2)"
      ],
      "execution_count": 50,
      "outputs": [
        {
          "output_type": "stream",
          "text": [
            "Epoch 1/100\n",
            "323/323 [==============================] - 1s 3ms/step - loss: 19.7933 - mse: 17.9581 - val_loss: 18.5226 - val_mse: 16.6955\n",
            "Epoch 2/100\n",
            "323/323 [==============================] - 1s 2ms/step - loss: 16.8203 - mse: 15.0057 - val_loss: 17.0045 - val_mse: 15.1996\n",
            "Epoch 3/100\n",
            "323/323 [==============================] - 1s 2ms/step - loss: 13.4763 - mse: 11.6836 - val_loss: 17.8913 - val_mse: 16.1161\n",
            "Epoch 4/100\n",
            "323/323 [==============================] - 1s 2ms/step - loss: 12.6951 - mse: 10.9245 - val_loss: 13.8893 - val_mse: 12.1329\n",
            "Epoch 5/100\n",
            "323/323 [==============================] - 1s 2ms/step - loss: 15.1853 - mse: 13.4355 - val_loss: 15.7755 - val_mse: 14.0363\n",
            "Epoch 6/100\n",
            "323/323 [==============================] - 1s 2ms/step - loss: 14.6549 - mse: 12.9254 - val_loss: 27.5373 - val_mse: 25.8123\n",
            "Epoch 7/100\n",
            "323/323 [==============================] - 1s 2ms/step - loss: 12.4608 - mse: 10.7528 - val_loss: 21.5167 - val_mse: 19.8125\n"
          ],
          "name": "stdout"
        }
      ]
    },
    {
      "cell_type": "code",
      "metadata": {
        "colab": {
          "base_uri": "https://localhost:8080/"
        },
        "id": "nJFu7YuyP0Aq",
        "outputId": "1585e5d8-f52a-41d5-af8c-e1f9e6a39683"
      },
      "source": [
        "#Training L2\n",
        "Mod_l2=model_l2_r.fit(x_train,y_train,batch_size=1,callbacks=[EarlyStopping(patience=3)],epochs=100,validation_split=0.2)"
      ],
      "execution_count": 52,
      "outputs": [
        {
          "output_type": "stream",
          "text": [
            "Epoch 1/100\n",
            "323/323 [==============================] - 1s 2ms/step - loss: 255.8761 - mse: 255.6155 - val_loss: 25.2409 - val_mse: 24.9531\n",
            "Epoch 2/100\n",
            "323/323 [==============================] - 1s 2ms/step - loss: 18.6685 - mse: 18.3816 - val_loss: 17.2687 - val_mse: 16.9787\n",
            "Epoch 3/100\n",
            "323/323 [==============================] - 1s 2ms/step - loss: 17.8779 - mse: 17.5886 - val_loss: 16.2072 - val_mse: 15.9164\n",
            "Epoch 4/100\n",
            "323/323 [==============================] - 1s 2ms/step - loss: 20.2285 - mse: 19.9387 - val_loss: 15.9760 - val_mse: 15.6860\n",
            "Epoch 5/100\n",
            "323/323 [==============================] - 1s 2ms/step - loss: 15.5158 - mse: 15.2267 - val_loss: 20.1815 - val_mse: 19.8920\n",
            "Epoch 6/100\n",
            "323/323 [==============================] - 1s 2ms/step - loss: 16.6235 - mse: 16.3347 - val_loss: 18.1632 - val_mse: 17.8753\n",
            "Epoch 7/100\n",
            "323/323 [==============================] - 1s 2ms/step - loss: 14.1688 - mse: 13.8775 - val_loss: 18.4104 - val_mse: 18.1220\n"
          ],
          "name": "stdout"
        }
      ]
    },
    {
      "cell_type": "code",
      "metadata": {
        "colab": {
          "base_uri": "https://localhost:8080/"
        },
        "id": "XEFZ6DBTPz49",
        "outputId": "0650007f-f9cd-4d29-868d-a7c14b76c48f"
      },
      "source": [
        "#Training L1 and L2 model\n",
        "Mod_l12=model_l12_r.fit(x_train,y_train,batch_size=1,callbacks=[EarlyStopping(patience=3)],epochs=100,validation_split=0.2)"
      ],
      "execution_count": 53,
      "outputs": [
        {
          "output_type": "stream",
          "text": [
            "Epoch 1/100\n",
            "323/323 [==============================] - 1s 2ms/step - loss: 257.8210 - mse: 255.7912 - val_loss: 26.8044 - val_mse: 24.6833\n",
            "Epoch 2/100\n",
            "323/323 [==============================] - 1s 2ms/step - loss: 19.8681 - mse: 17.7453 - val_loss: 17.5322 - val_mse: 15.4231\n",
            "Epoch 3/100\n",
            "323/323 [==============================] - 1s 2ms/step - loss: 23.0918 - mse: 20.9847 - val_loss: 15.6799 - val_mse: 13.5839\n",
            "Epoch 4/100\n",
            "323/323 [==============================] - 1s 2ms/step - loss: 19.3289 - mse: 17.2413 - val_loss: 14.4353 - val_mse: 12.3656\n",
            "Epoch 5/100\n",
            "323/323 [==============================] - 1s 2ms/step - loss: 16.6366 - mse: 14.5754 - val_loss: 13.1062 - val_mse: 11.0600\n",
            "Epoch 6/100\n",
            "323/323 [==============================] - 1s 2ms/step - loss: 16.6570 - mse: 14.6188 - val_loss: 15.5140 - val_mse: 13.4935\n",
            "Epoch 7/100\n",
            "323/323 [==============================] - 1s 2ms/step - loss: 13.7092 - mse: 11.6886 - val_loss: 18.8531 - val_mse: 16.8523\n",
            "Epoch 8/100\n",
            "323/323 [==============================] - 1s 2ms/step - loss: 17.4052 - mse: 15.4008 - val_loss: 12.8411 - val_mse: 10.8437\n",
            "Epoch 9/100\n",
            "323/323 [==============================] - 1s 2ms/step - loss: 14.2461 - mse: 12.2549 - val_loss: 17.3673 - val_mse: 15.3834\n",
            "Epoch 10/100\n",
            "323/323 [==============================] - 1s 2ms/step - loss: 14.2012 - mse: 12.2282 - val_loss: 19.7132 - val_mse: 17.7641\n",
            "Epoch 11/100\n",
            "323/323 [==============================] - 1s 2ms/step - loss: 16.3241 - mse: 14.3757 - val_loss: 15.0748 - val_mse: 13.1368\n"
          ],
          "name": "stdout"
        }
      ]
    },
    {
      "cell_type": "code",
      "metadata": {
        "colab": {
          "base_uri": "https://localhost:8080/",
          "height": 295
        },
        "id": "o320c7JcMxXv",
        "outputId": "7cb2e84e-b028-404e-80aa-9fc91be901ff"
      },
      "source": [
        "#L1 plot\n",
        "import matplotlib.pyplot as plt\n",
        "plt.plot(Mod_l1.history['mse'])\n",
        "plt.plot(Mod_l1.history['val_mse'])\n",
        "plt.title('L1 Model accuracy')\n",
        "plt.ylabel('accuracy')\n",
        "plt.xlabel('epoch')\n",
        "plt.legend(['train', 'test'], loc='upper left')\n",
        "plt.show()"
      ],
      "execution_count": 56,
      "outputs": [
        {
          "output_type": "display_data",
          "data": {
            "image/png": "[encoded data removed]",
            "text/plain": [
              "<Figure size 432x288 with 1 Axes>"
            ]
          },
          "metadata": {
            "tags": [],
            "needs_background": "light"
          }
        }
      ]
    },
    {
      "cell_type": "code",
      "metadata": {
        "colab": {
          "base_uri": "https://localhost:8080/",
          "height": 295
        },
        "id": "l7EbjjMpM9tM",
        "outputId": "adf0cf39-2b3e-42b8-d6d4-2aae69c5a3b2"
      },
      "source": [
        "#L2 Plot\n",
        "import matplotlib.pyplot as plt\n",
        "plt.plot(Mod_l2.history['mse'])\n",
        "plt.plot(Mod_l2.history['val_mse'])\n",
        "plt.title('L2 Model accuracy')\n",
        "plt.ylabel('accuracy')\n",
        "plt.xlabel('epoch')\n",
        "plt.legend(['train', 'test'], loc='upper left')\n",
        "plt.show()"
      ],
      "execution_count": 57,
      "outputs": [
        {
          "output_type": "display_data",
          "data": {
            "image/png": "[encoded data removed]",
            "text/plain": [
              "<Figure size 432x288 with 1 Axes>"
            ]
          },
          "metadata": {
            "tags": [],
            "needs_background": "light"
          }
        }
      ]
    },
    {
      "cell_type": "code",
      "metadata": {
        "colab": {
          "base_uri": "https://localhost:8080/",
          "height": 295
        },
        "id": "X426cX0QP--5",
        "outputId": "4d80799a-b02d-4f86-a557-546e10dd18ca"
      },
      "source": [
        "#L1 and L2 Plot\n",
        "import matplotlib.pyplot as plt\n",
        "plt.plot(Mod_l12.history['mse'])\n",
        "plt.plot(Mod_l12.history['val_mse'])\n",
        "plt.title('L1 and L2 Model accuracy')\n",
        "plt.ylabel('accuracy')\n",
        "plt.xlabel('epoch')\n",
        "plt.legend(['train', 'test'], loc='upper left')\n",
        "plt.show()"
      ],
      "execution_count": 58,
      "outputs": [
        {
          "output_type": "display_data",
          "data": {
            "image/png": "[encoded data removed]",
            "text/plain": [
              "<Figure size 432x288 with 1 Axes>"
            ]
          },
          "metadata": {
            "tags": [],
            "needs_background": "light"
          }
        }
      ]
    }
  ]
}