{
 "cells": [
  {
   "cell_type": "markdown",
   "metadata": {},
   "source": [
    "20MAI0015 \n",
    "GITHUB - "
   ]
  },
  {
   "cell_type": "markdown",
   "metadata": {},
   "source": [
    "# 16 Clustering"
   ]
  },
  {
   "cell_type": "markdown",
   "metadata": {},
   "source": [
    "1. Partitioning based Methods - Kmeans\n",
    "2. Hierarchial Clustering Methods - Agglomerative Clustering\n",
    "\n"
   ]
  },
  {
   "cell_type": "code",
   "execution_count": 71,
   "metadata": {},
   "outputs": [
    {
     "data": {
      "text/html": [
       "<div>\n",
       "<style scoped>\n",
       "    .dataframe tbody tr th:only-of-type {\n",
       "        vertical-align: middle;\n",
       "    }\n",
       "\n",
       "    .dataframe tbody tr th {\n",
       "        vertical-align: top;\n",
       "    }\n",
       "\n",
       "    .dataframe thead th {\n",
       "        text-align: right;\n",
       "    }\n",
       "</style>\n",
       "<table border=\"1\" class=\"dataframe\">\n",
       "  <thead>\n",
       "    <tr style=\"text-align: right;\">\n",
       "      <th></th>\n",
       "      <th>age</th>\n",
       "      <th>income</th>\n",
       "    </tr>\n",
       "  </thead>\n",
       "  <tbody>\n",
       "    <tr>\n",
       "      <th>0</th>\n",
       "      <td>55</td>\n",
       "      <td>80000</td>\n",
       "    </tr>\n",
       "    <tr>\n",
       "      <th>1</th>\n",
       "      <td>59</td>\n",
       "      <td>76000</td>\n",
       "    </tr>\n",
       "    <tr>\n",
       "      <th>2</th>\n",
       "      <td>45</td>\n",
       "      <td>41111</td>\n",
       "    </tr>\n",
       "    <tr>\n",
       "      <th>3</th>\n",
       "      <td>46</td>\n",
       "      <td>38000</td>\n",
       "    </tr>\n",
       "    <tr>\n",
       "      <th>4</th>\n",
       "      <td>35</td>\n",
       "      <td>44555</td>\n",
       "    </tr>\n",
       "  </tbody>\n",
       "</table>\n",
       "</div>"
      ],
      "text/plain": [
       "   age  income\n",
       "0   55   80000\n",
       "1   59   76000\n",
       "2   45   41111\n",
       "3   46   38000\n",
       "4   35   44555"
      ]
     },
     "execution_count": 71,
     "metadata": {},
     "output_type": "execute_result"
    }
   ],
   "source": [
    "#1IMPORTING THE DATASET\n",
    "import pandas as pd\n",
    "customer_df = pd.read_csv(\"Salary_Data.csv\")\n",
    "customer_df.head(5)"
   ]
  },
  {
   "cell_type": "code",
   "execution_count": 72,
   "metadata": {},
   "outputs": [
    {
     "name": "stderr",
     "output_type": "stream",
     "text": [
      "C:\\ProgramData\\Anaconda3\\lib\\site-packages\\seaborn\\regression.py:574: UserWarning: The `size` parameter has been renamed to `height`; please update your code.\n",
      "  warnings.warn(msg, UserWarning)\n"
     ]
    },
    {
     "data": {
      "text/plain": [
       "<seaborn.axisgrid.FacetGrid at 0x1e37a0e55c8>"
      ]
     },
     "execution_count": 72,
     "metadata": {},
     "output_type": "execute_result"
    },
    {
     "data": {
      "image/png": "[encoded data removed]",
      "text/plain": [
       "<Figure size 288x288 with 1 Axes>"
      ]
     },
     "metadata": {
      "needs_background": "light"
     },
     "output_type": "display_data"
    }
   ],
   "source": [
    "#importing the libraries\n",
    "import numpy as np\n",
    "import seaborn as sn\n",
    "import matplotlib as plt\n",
    "%matplotlib inline\n",
    "\n",
    "#scatter plot of the Data\n",
    "sn.lmplot(\"age\",\"income\",data=customer_df,fit_reg=False,size=4)"
   ]
  },
  {
   "cell_type": "code",
   "execution_count": 73,
   "metadata": {},
   "outputs": [
    {
     "data": {
      "text/plain": [
       "KMeans(algorithm='auto', copy_x=True, init='k-means++', max_iter=300,\n",
       "       n_clusters=3, n_init=10, n_jobs=None, precompute_distances='auto',\n",
       "       random_state=None, tol=0.0001, verbose=0)"
      ]
     },
     "execution_count": 73,
     "metadata": {},
     "output_type": "execute_result"
    }
   ],
   "source": [
    "#3 importing k-means\n",
    "from sklearn.cluster import KMeans\n",
    "clusters = KMeans(3)\n",
    "clusters.fit(customer_df)"
   ]
  },
  {
   "cell_type": "code",
   "execution_count": 74,
   "metadata": {},
   "outputs": [],
   "source": [
    "#the output of the variable is cluster.label\n",
    "customer_df[\"clusterid\"]=clusters.labels_"
   ]
  },
  {
   "cell_type": "code",
   "execution_count": 75,
   "metadata": {},
   "outputs": [
    {
     "data": {
      "text/html": [
       "<div>\n",
       "<style scoped>\n",
       "    .dataframe tbody tr th:only-of-type {\n",
       "        vertical-align: middle;\n",
       "    }\n",
       "\n",
       "    .dataframe tbody tr th {\n",
       "        vertical-align: top;\n",
       "    }\n",
       "\n",
       "    .dataframe thead th {\n",
       "        text-align: right;\n",
       "    }\n",
       "</style>\n",
       "<table border=\"1\" class=\"dataframe\">\n",
       "  <thead>\n",
       "    <tr style=\"text-align: right;\">\n",
       "      <th></th>\n",
       "      <th>age</th>\n",
       "      <th>income</th>\n",
       "      <th>clusterid</th>\n",
       "    </tr>\n",
       "  </thead>\n",
       "  <tbody>\n",
       "    <tr>\n",
       "      <th>0</th>\n",
       "      <td>55</td>\n",
       "      <td>80000</td>\n",
       "      <td>2</td>\n",
       "    </tr>\n",
       "    <tr>\n",
       "      <th>1</th>\n",
       "      <td>59</td>\n",
       "      <td>76000</td>\n",
       "      <td>2</td>\n",
       "    </tr>\n",
       "    <tr>\n",
       "      <th>2</th>\n",
       "      <td>45</td>\n",
       "      <td>41111</td>\n",
       "      <td>0</td>\n",
       "    </tr>\n",
       "    <tr>\n",
       "      <th>3</th>\n",
       "      <td>46</td>\n",
       "      <td>38000</td>\n",
       "      <td>0</td>\n",
       "    </tr>\n",
       "    <tr>\n",
       "      <th>4</th>\n",
       "      <td>35</td>\n",
       "      <td>44555</td>\n",
       "      <td>0</td>\n",
       "    </tr>\n",
       "    <tr>\n",
       "      <th>5</th>\n",
       "      <td>62</td>\n",
       "      <td>88000</td>\n",
       "      <td>2</td>\n",
       "    </tr>\n",
       "    <tr>\n",
       "      <th>6</th>\n",
       "      <td>58</td>\n",
       "      <td>86000</td>\n",
       "      <td>2</td>\n",
       "    </tr>\n",
       "    <tr>\n",
       "      <th>7</th>\n",
       "      <td>43</td>\n",
       "      <td>33088</td>\n",
       "      <td>0</td>\n",
       "    </tr>\n",
       "    <tr>\n",
       "      <th>8</th>\n",
       "      <td>24</td>\n",
       "      <td>64445</td>\n",
       "      <td>1</td>\n",
       "    </tr>\n",
       "    <tr>\n",
       "      <th>9</th>\n",
       "      <td>61</td>\n",
       "      <td>90000</td>\n",
       "      <td>2</td>\n",
       "    </tr>\n",
       "  </tbody>\n",
       "</table>\n",
       "</div>"
      ],
      "text/plain": [
       "   age  income  clusterid\n",
       "0   55   80000          2\n",
       "1   59   76000          2\n",
       "2   45   41111          0\n",
       "3   46   38000          0\n",
       "4   35   44555          0\n",
       "5   62   88000          2\n",
       "6   58   86000          2\n",
       "7   43   33088          0\n",
       "8   24   64445          1\n",
       "9   61   90000          2"
      ]
     },
     "execution_count": 75,
     "metadata": {},
     "output_type": "execute_result"
    }
   ],
   "source": [
    "customer_df[:10]"
   ]
  },
  {
   "cell_type": "code",
   "execution_count": 76,
   "metadata": {},
   "outputs": [
    {
     "name": "stderr",
     "output_type": "stream",
     "text": [
      "C:\\ProgramData\\Anaconda3\\lib\\site-packages\\seaborn\\regression.py:574: UserWarning: The `size` parameter has been renamed to `height`; please update your code.\n",
      "  warnings.warn(msg, UserWarning)\n"
     ]
    },
    {
     "data": {
      "text/plain": [
       "<seaborn.axisgrid.FacetGrid at 0x1e37a5f6548>"
      ]
     },
     "execution_count": 76,
     "metadata": {},
     "output_type": "execute_result"
    },
    {
     "data": {
      "image/png": "[encoded data removed]",
      "text/plain": [
       "<Figure size 339.375x288 with 1 Axes>"
      ]
     },
     "metadata": {
      "needs_background": "light"
     },
     "output_type": "display_data"
    }
   ],
   "source": [
    "markers = ['+','^','.']\n",
    "sn.lmplot(\"age\",\"income\",data = customer_df, hue =\"clusterid\", markers=markers, fit_reg=False,size=4)"
   ]
  },
  {
   "cell_type": "code",
   "execution_count": 77,
   "metadata": {},
   "outputs": [
    {
     "data": {
      "text/plain": [
       "array([[ 0.92523988,  1.01345132],\n",
       "       [ 1.25966394,  0.78849611],\n",
       "       [ 0.08917975, -1.17361942],\n",
       "       [ 0.17278576, -1.34857834],\n",
       "       [-0.74688039, -0.97993299],\n",
       "       [ 1.51048198,  1.46336173],\n",
       "       [ 1.17605793,  1.35088413],\n",
       "       [-0.07803228, -1.62482333],\n",
       "       [-1.66654654,  0.13865676],\n",
       "       [ 1.42687597,  1.57583933]])"
      ]
     },
     "execution_count": 77,
     "metadata": {},
     "output_type": "execute_result"
    }
   ],
   "source": [
    "#scaling the features\n",
    "from sklearn.preprocessing import StandardScaler\n",
    "scaler = StandardScaler()\n",
    "scaled_customers_df= scaler.fit_transform(customer_df[[\"age\",\"income\"]])\n",
    "scaled_customers_df[0:10]\n",
    "    "
   ]
  },
  {
   "cell_type": "code",
   "execution_count": 78,
   "metadata": {},
   "outputs": [
    {
     "data": {
      "text/plain": [
       "KMeans(algorithm='auto', copy_x=True, init='k-means++', max_iter=300,\n",
       "       n_clusters=3, n_init=10, n_jobs=None, precompute_distances='auto',\n",
       "       random_state=None, tol=0.0001, verbose=0)"
      ]
     },
     "execution_count": 78,
     "metadata": {},
     "output_type": "execute_result"
    }
   ],
   "source": [
    "#clustering again\n",
    "customer_new = KMeans(3)\n",
    "customer_new.fit(scaled_customers_df)\n"
   ]
  },
  {
   "cell_type": "code",
   "execution_count": 79,
   "metadata": {},
   "outputs": [],
   "source": [
    "customer_df[\"clusterid_new\"] = customer_new.labels_"
   ]
  },
  {
   "cell_type": "code",
   "execution_count": 80,
   "metadata": {},
   "outputs": [
    {
     "data": {
      "text/html": [
       "<div>\n",
       "<style scoped>\n",
       "    .dataframe tbody tr th:only-of-type {\n",
       "        vertical-align: middle;\n",
       "    }\n",
       "\n",
       "    .dataframe tbody tr th {\n",
       "        vertical-align: top;\n",
       "    }\n",
       "\n",
       "    .dataframe thead th {\n",
       "        text-align: right;\n",
       "    }\n",
       "</style>\n",
       "<table border=\"1\" class=\"dataframe\">\n",
       "  <thead>\n",
       "    <tr style=\"text-align: right;\">\n",
       "      <th></th>\n",
       "      <th>age</th>\n",
       "      <th>income</th>\n",
       "      <th>clusterid</th>\n",
       "      <th>clusterid_new</th>\n",
       "    </tr>\n",
       "  </thead>\n",
       "  <tbody>\n",
       "    <tr>\n",
       "      <th>0</th>\n",
       "      <td>55</td>\n",
       "      <td>80000</td>\n",
       "      <td>2</td>\n",
       "      <td>1</td>\n",
       "    </tr>\n",
       "    <tr>\n",
       "      <th>1</th>\n",
       "      <td>59</td>\n",
       "      <td>76000</td>\n",
       "      <td>2</td>\n",
       "      <td>1</td>\n",
       "    </tr>\n",
       "    <tr>\n",
       "      <th>2</th>\n",
       "      <td>45</td>\n",
       "      <td>41111</td>\n",
       "      <td>0</td>\n",
       "      <td>2</td>\n",
       "    </tr>\n",
       "    <tr>\n",
       "      <th>3</th>\n",
       "      <td>46</td>\n",
       "      <td>38000</td>\n",
       "      <td>0</td>\n",
       "      <td>2</td>\n",
       "    </tr>\n",
       "    <tr>\n",
       "      <th>4</th>\n",
       "      <td>35</td>\n",
       "      <td>44555</td>\n",
       "      <td>0</td>\n",
       "      <td>2</td>\n",
       "    </tr>\n",
       "    <tr>\n",
       "      <th>5</th>\n",
       "      <td>62</td>\n",
       "      <td>88000</td>\n",
       "      <td>2</td>\n",
       "      <td>1</td>\n",
       "    </tr>\n",
       "    <tr>\n",
       "      <th>6</th>\n",
       "      <td>58</td>\n",
       "      <td>86000</td>\n",
       "      <td>2</td>\n",
       "      <td>1</td>\n",
       "    </tr>\n",
       "    <tr>\n",
       "      <th>7</th>\n",
       "      <td>43</td>\n",
       "      <td>33088</td>\n",
       "      <td>0</td>\n",
       "      <td>2</td>\n",
       "    </tr>\n",
       "    <tr>\n",
       "      <th>8</th>\n",
       "      <td>24</td>\n",
       "      <td>64445</td>\n",
       "      <td>1</td>\n",
       "      <td>0</td>\n",
       "    </tr>\n",
       "    <tr>\n",
       "      <th>9</th>\n",
       "      <td>61</td>\n",
       "      <td>90000</td>\n",
       "      <td>2</td>\n",
       "      <td>1</td>\n",
       "    </tr>\n",
       "    <tr>\n",
       "      <th>10</th>\n",
       "      <td>41</td>\n",
       "      <td>46899</td>\n",
       "      <td>0</td>\n",
       "      <td>2</td>\n",
       "    </tr>\n",
       "    <tr>\n",
       "      <th>11</th>\n",
       "      <td>31</td>\n",
       "      <td>69891</td>\n",
       "      <td>1</td>\n",
       "      <td>0</td>\n",
       "    </tr>\n",
       "    <tr>\n",
       "      <th>12</th>\n",
       "      <td>26</td>\n",
       "      <td>56642</td>\n",
       "      <td>1</td>\n",
       "      <td>0</td>\n",
       "    </tr>\n",
       "    <tr>\n",
       "      <th>13</th>\n",
       "      <td>29</td>\n",
       "      <td>63525</td>\n",
       "      <td>1</td>\n",
       "      <td>0</td>\n",
       "    </tr>\n",
       "    <tr>\n",
       "      <th>14</th>\n",
       "      <td>47</td>\n",
       "      <td>39000</td>\n",
       "      <td>0</td>\n",
       "      <td>2</td>\n",
       "    </tr>\n",
       "    <tr>\n",
       "      <th>15</th>\n",
       "      <td>57</td>\n",
       "      <td>85000</td>\n",
       "      <td>2</td>\n",
       "      <td>1</td>\n",
       "    </tr>\n",
       "    <tr>\n",
       "      <th>16</th>\n",
       "      <td>30</td>\n",
       "      <td>57731</td>\n",
       "      <td>1</td>\n",
       "      <td>0</td>\n",
       "    </tr>\n",
       "    <tr>\n",
       "      <th>17</th>\n",
       "      <td>25</td>\n",
       "      <td>69343</td>\n",
       "      <td>1</td>\n",
       "      <td>0</td>\n",
       "    </tr>\n",
       "    <tr>\n",
       "      <th>18</th>\n",
       "      <td>54</td>\n",
       "      <td>69000</td>\n",
       "      <td>1</td>\n",
       "      <td>1</td>\n",
       "    </tr>\n",
       "    <tr>\n",
       "      <th>19</th>\n",
       "      <td>40</td>\n",
       "      <td>39000</td>\n",
       "      <td>0</td>\n",
       "      <td>2</td>\n",
       "    </tr>\n",
       "    <tr>\n",
       "      <th>20</th>\n",
       "      <td>53</td>\n",
       "      <td>70000</td>\n",
       "      <td>1</td>\n",
       "      <td>1</td>\n",
       "    </tr>\n",
       "    <tr>\n",
       "      <th>21</th>\n",
       "      <td>28</td>\n",
       "      <td>66205</td>\n",
       "      <td>1</td>\n",
       "      <td>0</td>\n",
       "    </tr>\n",
       "    <tr>\n",
       "      <th>22</th>\n",
       "      <td>52</td>\n",
       "      <td>59000</td>\n",
       "      <td>1</td>\n",
       "      <td>1</td>\n",
       "    </tr>\n",
       "    <tr>\n",
       "      <th>23</th>\n",
       "      <td>37</td>\n",
       "      <td>47900</td>\n",
       "      <td>0</td>\n",
       "      <td>2</td>\n",
       "    </tr>\n",
       "    <tr>\n",
       "      <th>24</th>\n",
       "      <td>42</td>\n",
       "      <td>35000</td>\n",
       "      <td>0</td>\n",
       "      <td>2</td>\n",
       "    </tr>\n",
       "    <tr>\n",
       "      <th>25</th>\n",
       "      <td>60</td>\n",
       "      <td>89000</td>\n",
       "      <td>2</td>\n",
       "      <td>1</td>\n",
       "    </tr>\n",
       "    <tr>\n",
       "      <th>26</th>\n",
       "      <td>32</td>\n",
       "      <td>69150</td>\n",
       "      <td>1</td>\n",
       "      <td>0</td>\n",
       "    </tr>\n",
       "    <tr>\n",
       "      <th>27</th>\n",
       "      <td>56</td>\n",
       "      <td>82000</td>\n",
       "      <td>2</td>\n",
       "      <td>1</td>\n",
       "    </tr>\n",
       "    <tr>\n",
       "      <th>28</th>\n",
       "      <td>39</td>\n",
       "      <td>38900</td>\n",
       "      <td>0</td>\n",
       "      <td>2</td>\n",
       "    </tr>\n",
       "    <tr>\n",
       "      <th>29</th>\n",
       "      <td>51</td>\n",
       "      <td>65000</td>\n",
       "      <td>1</td>\n",
       "      <td>1</td>\n",
       "    </tr>\n",
       "  </tbody>\n",
       "</table>\n",
       "</div>"
      ],
      "text/plain": [
       "    age  income  clusterid  clusterid_new\n",
       "0    55   80000          2              1\n",
       "1    59   76000          2              1\n",
       "2    45   41111          0              2\n",
       "3    46   38000          0              2\n",
       "4    35   44555          0              2\n",
       "5    62   88000          2              1\n",
       "6    58   86000          2              1\n",
       "7    43   33088          0              2\n",
       "8    24   64445          1              0\n",
       "9    61   90000          2              1\n",
       "10   41   46899          0              2\n",
       "11   31   69891          1              0\n",
       "12   26   56642          1              0\n",
       "13   29   63525          1              0\n",
       "14   47   39000          0              2\n",
       "15   57   85000          2              1\n",
       "16   30   57731          1              0\n",
       "17   25   69343          1              0\n",
       "18   54   69000          1              1\n",
       "19   40   39000          0              2\n",
       "20   53   70000          1              1\n",
       "21   28   66205          1              0\n",
       "22   52   59000          1              1\n",
       "23   37   47900          0              2\n",
       "24   42   35000          0              2\n",
       "25   60   89000          2              1\n",
       "26   32   69150          1              0\n",
       "27   56   82000          2              1\n",
       "28   39   38900          0              2\n",
       "29   51   65000          1              1"
      ]
     },
     "execution_count": 80,
     "metadata": {},
     "output_type": "execute_result"
    }
   ],
   "source": [
    "customer_df"
   ]
  },
  {
   "cell_type": "code",
   "execution_count": 81,
   "metadata": {},
   "outputs": [],
   "source": [
    "#PROBLEM STATEMENT: USE bev.csv - Apply Clustering (KMeans and Agglomerative) - Compare the clusters created by both the techniques"
   ]
  },
  {
   "cell_type": "code",
   "execution_count": 82,
   "metadata": {},
   "outputs": [
    {
     "data": {
      "text/html": [
       "<div>\n",
       "<style scoped>\n",
       "    .dataframe tbody tr th:only-of-type {\n",
       "        vertical-align: middle;\n",
       "    }\n",
       "\n",
       "    .dataframe tbody tr th {\n",
       "        vertical-align: top;\n",
       "    }\n",
       "\n",
       "    .dataframe thead th {\n",
       "        text-align: right;\n",
       "    }\n",
       "</style>\n",
       "<table border=\"1\" class=\"dataframe\">\n",
       "  <thead>\n",
       "    <tr style=\"text-align: right;\">\n",
       "      <th></th>\n",
       "      <th>Name</th>\n",
       "      <th>Potassium</th>\n",
       "      <th>Sodium</th>\n",
       "      <th>Caffeine</th>\n",
       "      <th>Cost</th>\n",
       "    </tr>\n",
       "  </thead>\n",
       "  <tbody>\n",
       "    <tr>\n",
       "      <th>0</th>\n",
       "      <td>new_england_coffee</td>\n",
       "      <td>144</td>\n",
       "      <td>15</td>\n",
       "      <td>4.7</td>\n",
       "      <td>0.43</td>\n",
       "    </tr>\n",
       "    <tr>\n",
       "      <th>1</th>\n",
       "      <td>post_alley_blend</td>\n",
       "      <td>151</td>\n",
       "      <td>19</td>\n",
       "      <td>4.9</td>\n",
       "      <td>0.43</td>\n",
       "    </tr>\n",
       "    <tr>\n",
       "      <th>2</th>\n",
       "      <td>stumpdown_coffee</td>\n",
       "      <td>157</td>\n",
       "      <td>15</td>\n",
       "      <td>0.9</td>\n",
       "      <td>0.48</td>\n",
       "    </tr>\n",
       "    <tr>\n",
       "      <th>3</th>\n",
       "      <td>bizzy_organic_coffee</td>\n",
       "      <td>170</td>\n",
       "      <td>7</td>\n",
       "      <td>5.2</td>\n",
       "      <td>0.73</td>\n",
       "    </tr>\n",
       "    <tr>\n",
       "      <th>4</th>\n",
       "      <td>indian_bean</td>\n",
       "      <td>152</td>\n",
       "      <td>11</td>\n",
       "      <td>5.0</td>\n",
       "      <td>0.77</td>\n",
       "    </tr>\n",
       "    <tr>\n",
       "      <th>5</th>\n",
       "      <td>jacobs_coffee</td>\n",
       "      <td>145</td>\n",
       "      <td>23</td>\n",
       "      <td>4.6</td>\n",
       "      <td>0.28</td>\n",
       "    </tr>\n",
       "    <tr>\n",
       "      <th>6</th>\n",
       "      <td>grounds_hounds_coffee</td>\n",
       "      <td>175</td>\n",
       "      <td>24</td>\n",
       "      <td>5.5</td>\n",
       "      <td>0.40</td>\n",
       "    </tr>\n",
       "    <tr>\n",
       "      <th>7</th>\n",
       "      <td>la_columbe_corisca</td>\n",
       "      <td>149</td>\n",
       "      <td>27</td>\n",
       "      <td>4.7</td>\n",
       "      <td>0.42</td>\n",
       "    </tr>\n",
       "    <tr>\n",
       "      <th>8</th>\n",
       "      <td>lavazza_super_crema</td>\n",
       "      <td>99</td>\n",
       "      <td>10</td>\n",
       "      <td>4.3</td>\n",
       "      <td>0.43</td>\n",
       "    </tr>\n",
       "    <tr>\n",
       "      <th>9</th>\n",
       "      <td>mount_hagen</td>\n",
       "      <td>113</td>\n",
       "      <td>8</td>\n",
       "      <td>3.7</td>\n",
       "      <td>0.40</td>\n",
       "    </tr>\n",
       "  </tbody>\n",
       "</table>\n",
       "</div>"
      ],
      "text/plain": [
       "                    Name  Potassium  Sodium  Caffeine  Cost\n",
       "0     new_england_coffee        144      15       4.7  0.43\n",
       "1       post_alley_blend        151      19       4.9  0.43\n",
       "2       stumpdown_coffee        157      15       0.9  0.48\n",
       "3   bizzy_organic_coffee        170       7       5.2  0.73\n",
       "4            indian_bean        152      11       5.0  0.77\n",
       "5          jacobs_coffee        145      23       4.6  0.28\n",
       "6  grounds_hounds_coffee        175      24       5.5  0.40\n",
       "7     la_columbe_corisca        149      27       4.7  0.42\n",
       "8    lavazza_super_crema         99      10       4.3  0.43\n",
       "9            mount_hagen        113       8       3.7  0.40"
      ]
     },
     "execution_count": 82,
     "metadata": {},
     "output_type": "execute_result"
    }
   ],
   "source": [
    "bev = pd.read_csv(\"bev.csv\")\n",
    "bev.head(10)"
   ]
  },
  {
   "cell_type": "code",
   "execution_count": 90,
   "metadata": {},
   "outputs": [
    {
     "name": "stderr",
     "output_type": "stream",
     "text": [
      "C:\\ProgramData\\Anaconda3\\lib\\site-packages\\seaborn\\regression.py:574: UserWarning: The `size` parameter has been renamed to `height`; please update your code.\n",
      "  warnings.warn(msg, UserWarning)\n"
     ]
    },
    {
     "data": {
      "text/plain": [
       "<seaborn.axisgrid.FacetGrid at 0x1e3783b4748>"
      ]
     },
     "execution_count": 90,
     "metadata": {},
     "output_type": "execute_result"
    },
    {
     "data": {
      "image/png": "[encoded data removed]",
      "text/plain": [
       "<Figure size 360x360 with 1 Axes>"
      ]
     },
     "metadata": {
      "needs_background": "light"
     },
     "output_type": "display_data"
    }
   ],
   "source": [
    "sn.lmplot(\"Caffeine\",\"Cost\", data = bev, fit_reg=False, size=5)"
   ]
  },
  {
   "cell_type": "code",
   "execution_count": 92,
   "metadata": {},
   "outputs": [],
   "source": [
    "# Scaling\n",
    "from sklearn.preprocessing import StandardScaler\n",
    "bev_scaler = StandardScaler()\n",
    "bev_df = bev_scaler.fit_transform(bev[[\"Potassium\", \"Sodium\", \"Caffeine\",\"Cost\"]])"
   ]
  },
  {
   "cell_type": "code",
   "execution_count": 94,
   "metadata": {},
   "outputs": [
    {
     "data": {
      "text/plain": [
       "array([[ 0.38791334,  0.00779468,  0.43380786, -0.45682969],\n",
       "       [ 0.6250656 ,  0.63136906,  0.62241997, -0.45682969],\n",
       "       [ 0.82833896,  0.00779468, -3.14982226, -0.10269815],\n",
       "       [ 1.26876459, -1.23935408,  0.90533814,  1.66795955],\n",
       "       [ 0.65894449, -0.6157797 ,  0.71672602,  1.95126478],\n",
       "       [ 0.42179223,  1.25494344,  0.3395018 , -1.5192243 ],\n",
       "       [ 1.43815906,  1.41083704,  1.1882563 , -0.66930861],\n",
       "       [ 0.55730781,  1.87851782,  0.43380786, -0.52765599],\n",
       "       [-1.1366369 , -0.7716733 ,  0.05658363, -0.45682969],\n",
       "       [-0.66233238, -1.08346049, -0.5092527 , -0.66930861],\n",
       "       [ 0.25239776,  0.47547547,  0.3395018 , -0.38600338],\n",
       "       [-1.03500022,  0.00779468, -0.13202848, -0.24435076],\n",
       "       [ 0.08300329, -0.6157797 , -0.03772242,  0.03895447],\n",
       "       [ 0.59118671,  0.63136906,  0.43380786,  1.88043848],\n",
       "       [ 0.55730781, -1.39524768,  0.71672602,  2.0929174 ],\n",
       "       [-2.18688263,  0.00779468, -1.82953748, -0.81096123],\n",
       "       [ 0.21851887,  0.63136906,  0.15088969, -0.45682969],\n",
       "       [ 0.38791334,  1.41083704,  0.62241997, -0.45682969],\n",
       "       [-2.05136705, -1.39524768, -1.26370115, -0.24435076],\n",
       "       [-1.20439469, -1.23935408, -0.03772242, -0.17352445]])"
      ]
     },
     "execution_count": 94,
     "metadata": {},
     "output_type": "execute_result"
    }
   ],
   "source": [
    "bev_df"
   ]
  },
  {
   "cell_type": "code",
   "execution_count": 96,
   "metadata": {},
   "outputs": [],
   "source": [
    "# KMeans clustering\n",
    "from sklearn.cluster import KMeans\n",
    "bev_clusters=KMeans(3)\n",
    "bev_clusters.fit(bev_df)\n",
    "bev[\"bev_cluster_id\"] = bev_clusters.labels_"
   ]
  },
  {
   "cell_type": "code",
   "execution_count": 97,
   "metadata": {},
   "outputs": [
    {
     "data": {
      "text/plain": [
       "<seaborn.axisgrid.FacetGrid at 0x1e3769bad88>"
      ]
     },
     "execution_count": 97,
     "metadata": {},
     "output_type": "execute_result"
    },
    {
     "data": {
      "image/png": "[encoded data removed]",
      "text/plain": [
       "<Figure size 439.625x360 with 1 Axes>"
      ]
     },
     "metadata": {
      "needs_background": "light"
     },
     "output_type": "display_data"
    }
   ],
   "source": [
    "# plotting for new values\n",
    "markers = ['+','^','.']\n",
    "sn.lmplot(\"Caffeine\",\"Cost\", data = bev, hue = \"bev_cluster_id\", markers = markers, fit_reg=False, height=5)"
   ]
  },
  {
   "cell_type": "code",
   "execution_count": 104,
   "metadata": {},
   "outputs": [
    {
     "name": "stdout",
     "output_type": "stream",
     "text": [
      "                   Name  Potassium  Sodium  Caffeine  Cost  bev_cluster_id\n",
      "2      stumpdown_coffee        157      15       0.9  0.48               0\n",
      "8   lavazza_super_crema         99      10       4.3  0.43               0\n",
      "9           mount_hagen        113       8       3.7  0.40               0\n",
      "11   peerless_wholebean        102      15       4.1  0.46               0\n",
      "12  stone_street_coffee        135      11       4.2  0.50               0\n",
      "15       caribou_coffee         68      15       2.3  0.38               0\n",
      "18      davidoff_coffee         72       6       2.9  0.46               0\n",
      "19            js_coffee         97       7       4.2  0.47               0 \n",
      "\n",
      "                     Name  Potassium  Sodium  Caffeine  Cost  bev_cluster_id\n",
      "0      new_england_coffee        144      15       4.7  0.43               1\n",
      "1        post_alley_blend        151      19       4.9  0.43               1\n",
      "5           jacobs_coffee        145      23       4.6  0.28               1\n",
      "6   grounds_hounds_coffee        175      24       5.5  0.40               1\n",
      "7      la_columbe_corisca        149      27       4.7  0.42               1\n",
      "10         red_bay_coffee        140      18       4.6  0.44               1\n",
      "16  irish_hazelnut_coffee        139      19       4.4  0.43               1\n",
      "17         cremoso_coffee        144      24       4.9  0.43               1 \n",
      "\n",
      "                     Name  Potassium  Sodium  Caffeine  Cost  bev_cluster_id\n",
      "3    bizzy_organic_coffee        170       7       5.2  0.73               2\n",
      "4             indian_bean        152      11       5.0  0.77               2\n",
      "13  green_mountain_coffee        150      19       4.7  0.76               2\n",
      "14            koffee_cuit        149       6       5.0  0.79               2 \n",
      "\n"
     ]
    }
   ],
   "source": [
    "for x in range(3):\n",
    "  print(bev[bev.bev_cluster_id == x],\"\\n\")"
   ]
  },
  {
   "cell_type": "code",
   "execution_count": 108,
   "metadata": {},
   "outputs": [
    {
     "name": "stdout",
     "output_type": "stream",
     "text": [
      "                   Name  Potassium  Sodium  Caffeine  Cost  bev_cluster_id\n",
      "2      stumpdown_coffee        157      15       0.9  0.48               0\n",
      "8   lavazza_super_crema         99      10       4.3  0.43               0\n",
      "9           mount_hagen        113       8       3.7  0.40               0\n",
      "11   peerless_wholebean        102      15       4.1  0.46               0\n",
      "12  stone_street_coffee        135      11       4.2  0.50               0\n",
      "15       caribou_coffee         68      15       2.3  0.38               0\n",
      "18      davidoff_coffee         72       6       2.9  0.46               0\n",
      "19            js_coffee         97       7       4.2  0.47               0 \n",
      "\n",
      "                     Name  Potassium  Sodium  Caffeine  Cost  bev_cluster_id\n",
      "0      new_england_coffee        144      15       4.7  0.43               1\n",
      "1        post_alley_blend        151      19       4.9  0.43               1\n",
      "5           jacobs_coffee        145      23       4.6  0.28               1\n",
      "6   grounds_hounds_coffee        175      24       5.5  0.40               1\n",
      "7      la_columbe_corisca        149      27       4.7  0.42               1\n",
      "10         red_bay_coffee        140      18       4.6  0.44               1\n",
      "16  irish_hazelnut_coffee        139      19       4.4  0.43               1\n",
      "17         cremoso_coffee        144      24       4.9  0.43               1 \n",
      "\n"
     ]
    }
   ],
   "source": [
    "for x in range(2):\n",
    "  print(bev[bev.bev_cluster_id == x],\"\\n\")"
   ]
  },
  {
   "cell_type": "code",
   "execution_count": 110,
   "metadata": {},
   "outputs": [],
   "source": [
    "# Agglomorative clustering\n",
    "from sklearn.cluster import AgglomerativeClustering\n",
    "bev_agg = AgglomerativeClustering(3)\n",
    "bev_agg.fit(bev_df)\n",
    "bev[\"bev_cluster_id_agglomerative\"] = bev_agg.labels_"
   ]
  },
  {
   "cell_type": "code",
   "execution_count": 111,
   "metadata": {},
   "outputs": [
    {
     "data": {
      "text/plain": [
       "<seaborn.axisgrid.FacetGrid at 0x1e377b85948>"
      ]
     },
     "execution_count": 111,
     "metadata": {},
     "output_type": "execute_result"
    },
    {
     "data": {
      "image/png": "[encoded data removed]",
      "text/plain": [
       "<Figure size 517.125x360 with 1 Axes>"
      ]
     },
     "metadata": {
      "needs_background": "light"
     },
     "output_type": "display_data"
    }
   ],
   "source": [
    "markers = ['+','^','.',]\n",
    "sn.lmplot(\"Caffeine\",\"Cost\", data = bev, hue = \"bev_cluster_id_agglomerative\", markers = markers, fit_reg=False, height=5)"
   ]
  },
  {
   "cell_type": "code",
   "execution_count": 114,
   "metadata": {},
   "outputs": [
    {
     "name": "stdout",
     "output_type": "stream",
     "text": [
      "                   Name  Potassium  Sodium  Caffeine  Cost  bev_cluster_id  \\\n",
      "2      stumpdown_coffee        157      15       0.9  0.48               0   \n",
      "8   lavazza_super_crema         99      10       4.3  0.43               0   \n",
      "9           mount_hagen        113       8       3.7  0.40               0   \n",
      "11   peerless_wholebean        102      15       4.1  0.46               0   \n",
      "12  stone_street_coffee        135      11       4.2  0.50               0   \n",
      "15       caribou_coffee         68      15       2.3  0.38               0   \n",
      "18      davidoff_coffee         72       6       2.9  0.46               0   \n",
      "19            js_coffee         97       7       4.2  0.47               0   \n",
      "\n",
      "    bev_cluster_id_agglomerative  \n",
      "2                              0  \n",
      "8                              0  \n",
      "9                              0  \n",
      "11                             0  \n",
      "12                             0  \n",
      "15                             0  \n",
      "18                             0  \n",
      "19                             0   \n",
      "\n",
      "                     Name  Potassium  Sodium  Caffeine  Cost  bev_cluster_id  \\\n",
      "0      new_england_coffee        144      15       4.7  0.43               1   \n",
      "1        post_alley_blend        151      19       4.9  0.43               1   \n",
      "5           jacobs_coffee        145      23       4.6  0.28               1   \n",
      "6   grounds_hounds_coffee        175      24       5.5  0.40               1   \n",
      "7      la_columbe_corisca        149      27       4.7  0.42               1   \n",
      "10         red_bay_coffee        140      18       4.6  0.44               1   \n",
      "16  irish_hazelnut_coffee        139      19       4.4  0.43               1   \n",
      "17         cremoso_coffee        144      24       4.9  0.43               1   \n",
      "\n",
      "    bev_cluster_id_agglomerative  \n",
      "0                              1  \n",
      "1                              1  \n",
      "5                              1  \n",
      "6                              1  \n",
      "7                              1  \n",
      "10                             1  \n",
      "16                             1  \n",
      "17                             1   \n",
      "\n",
      "                     Name  Potassium  Sodium  Caffeine  Cost  bev_cluster_id  \\\n",
      "3    bizzy_organic_coffee        170       7       5.2  0.73               2   \n",
      "4             indian_bean        152      11       5.0  0.77               2   \n",
      "13  green_mountain_coffee        150      19       4.7  0.76               2   \n",
      "14            koffee_cuit        149       6       5.0  0.79               2   \n",
      "\n",
      "    bev_cluster_id_agglomerative  \n",
      "3                              2  \n",
      "4                              2  \n",
      "13                             2  \n",
      "14                             2   \n",
      "\n"
     ]
    }
   ],
   "source": [
    "for x in range(3):\n",
    "  print(bev[bev.bev_cluster_id_agglomerative == x],\"\\n\")"
   ]
  },
  {
   "cell_type": "code",
   "execution_count": 115,
   "metadata": {},
   "outputs": [
    {
     "name": "stdout",
     "output_type": "stream",
     "text": [
      "                   Name  Potassium  Sodium  Caffeine  Cost  bev_cluster_id  \\\n",
      "2      stumpdown_coffee        157      15       0.9  0.48               0   \n",
      "8   lavazza_super_crema         99      10       4.3  0.43               0   \n",
      "9           mount_hagen        113       8       3.7  0.40               0   \n",
      "11   peerless_wholebean        102      15       4.1  0.46               0   \n",
      "12  stone_street_coffee        135      11       4.2  0.50               0   \n",
      "15       caribou_coffee         68      15       2.3  0.38               0   \n",
      "18      davidoff_coffee         72       6       2.9  0.46               0   \n",
      "19            js_coffee         97       7       4.2  0.47               0   \n",
      "\n",
      "    bev_cluster_id_agglomerative  \n",
      "2                              0  \n",
      "8                              0  \n",
      "9                              0  \n",
      "11                             0  \n",
      "12                             0  \n",
      "15                             0  \n",
      "18                             0  \n",
      "19                             0   \n",
      "\n",
      "                     Name  Potassium  Sodium  Caffeine  Cost  bev_cluster_id  \\\n",
      "0      new_england_coffee        144      15       4.7  0.43               1   \n",
      "1        post_alley_blend        151      19       4.9  0.43               1   \n",
      "5           jacobs_coffee        145      23       4.6  0.28               1   \n",
      "6   grounds_hounds_coffee        175      24       5.5  0.40               1   \n",
      "7      la_columbe_corisca        149      27       4.7  0.42               1   \n",
      "10         red_bay_coffee        140      18       4.6  0.44               1   \n",
      "16  irish_hazelnut_coffee        139      19       4.4  0.43               1   \n",
      "17         cremoso_coffee        144      24       4.9  0.43               1   \n",
      "\n",
      "    bev_cluster_id_agglomerative  \n",
      "0                              1  \n",
      "1                              1  \n",
      "5                              1  \n",
      "6                              1  \n",
      "7                              1  \n",
      "10                             1  \n",
      "16                             1  \n",
      "17                             1   \n",
      "\n"
     ]
    }
   ],
   "source": [
    "for x in range(2):\n",
    "  print(bev[bev.bev_cluster_id_agglomerative == x],\"\\n\")"
   ]
  },
  {
   "cell_type": "markdown",
   "metadata": {},
   "source": [
    "Conclusion\n",
    "\n"
   ]
  },
  {
   "cell_type": "markdown",
   "metadata": {},
   "source": [
    "K Means and Agglomerative - boyh are different alogoritthms for clustering data depending upon the parameteres we provide, So in this experiment the difference between the both clustering methods ewere explored where we have two different set of results for each algorithms as methodsntioned above"
   ]
  },
  {
   "cell_type": "markdown",
   "metadata": {},
   "source": [
    "Kneans uses the centroids to cluster the data whereas the agglomerative clustering algorithem uses top down or bottom up approach to cluster the data"
   ]
  },
  {
   "cell_type": "code",
   "execution_count": null,
   "metadata": {},
   "outputs": [],
   "source": []
  }
 ],
 "metadata": {
  "kernelspec": {
   "display_name": "Python 3",
   "language": "python",
   "name": "python3"
  },
  "language_info": {
   "codemirror_mode": {
    "name": "ipython",
    "version": 3
   },
   "file_extension": ".py",
   "mimetype": "text/x-python",
   "name": "python",
   "nbconvert_exporter": "python",
   "pygments_lexer": "ipython3",
   "version": "3.7.6"
  }
 },
 "nbformat": 4,
 "nbformat_minor": 4
}
